{
 "cells": [
  {
   "cell_type": "code",
   "execution_count": 2,
   "metadata": {
    "collapsed": true
   },
   "outputs": [],
   "source": [
    "# Import necessary packages\n",
    "\n",
    "%matplotlib inline\n",
    "%config InlineBackend.figure_format = 'retina'\n",
    "\n",
    "import numpy as np\n",
    "import torch\n",
    "import matplotlib.pyplot as plt"
   ]
  },
  {
   "cell_type": "code",
   "execution_count": 3,
   "metadata": {},
   "outputs": [
    {
     "data": {
      "text/plain": [
       "<Figure size 432x288 with 0 Axes>"
      ]
     },
     "metadata": {},
     "output_type": "display_data"
    }
   ],
   "source": [
    "def view_classify(img, ps, version=\"MNIST\"):\n",
    "    ''' Function for viewing an image and it's predicted classes.\n",
    "    '''\n",
    "    ps = ps.data.numpy().squeeze()\n",
    "\n",
    "    fig, (ax1, ax2) = plt.subplots(figsize=(6,9), ncols=2)\n",
    "    ax1.imshow(img.resize_(1, 28, 28).numpy().squeeze())\n",
    "    ax1.axis('off')\n",
    "    ax2.barh(np.arange(10), ps)\n",
    "    ax2.set_aspect(0.1)\n",
    "    ax2.set_yticks(np.arange(10))\n",
    "    if version == \"MNIST\":\n",
    "        ax2.set_yticklabels(np.arange(10))\n",
    "    elif version == \"Fashion\":\n",
    "        ax2.set_yticklabels(['T-shirt/top',\n",
    "                            'Trouser',\n",
    "                            'Pullover',\n",
    "                            'Dress',\n",
    "                            'Coat',\n",
    "                            'Sandal',\n",
    "                            'Shirt',\n",
    "                            'Sneaker',\n",
    "                            'Bag',\n",
    "                            'Ankle Boot'], size='small');\n",
    "    ax2.set_title('Class Probability')\n",
    "    ax2.set_xlim(0, 1.1)\n",
    "\n",
    "plt.tight_layout()"
   ]
  },
  {
   "cell_type": "code",
   "execution_count": 4,
   "metadata": {
    "collapsed": true
   },
   "outputs": [],
   "source": [
    "### Run this cell\n",
    "\n",
    "from torchvision import datasets, transforms\n",
    "\n",
    "# Define a transform to normalize the data\n",
    "transform = transforms.Compose([transforms.ToTensor(),\n",
    "                              transforms.Normalize((0.5,), (0.5,)),\n",
    "                              ])\n",
    "\n",
    "# Download and load the training data\n",
    "trainset = datasets.MNIST('~/.pytorch/MNIST_data1/', download=True, train=True, transform=transform)\n",
    "trainloader = torch.utils.data.DataLoader(trainset, batch_size=64, shuffle=True)"
   ]
  },
  {
   "cell_type": "code",
   "execution_count": 5,
   "metadata": {},
   "outputs": [
    {
     "name": "stdout",
     "output_type": "stream",
     "text": [
      "<class 'torch.Tensor'>\n",
      "torch.Size([64, 1, 28, 28])\n",
      "torch.Size([64])\n",
      "tensor(7)\n"
     ]
    }
   ],
   "source": [
    "dataiter = iter(trainloader)\n",
    "images, labels = dataiter.next()\n",
    "print(type(images))\n",
    "print(images.shape)\n",
    "print(labels.shape)\n",
    "print(labels[1])"
   ]
  },
  {
   "cell_type": "code",
   "execution_count": 6,
   "metadata": {},
   "outputs": [
    {
     "data": {
      "text/plain": [
       "<matplotlib.image.AxesImage at 0x7fcdf9bbc400>"
      ]
     },
     "execution_count": 6,
     "metadata": {},
     "output_type": "execute_result"
    },
    {
     "data": {
      "image/png": "[encoded data removed]",
      "text/plain": [
       "<Figure size 432x288 with 1 Axes>"
      ]
     },
     "metadata": {
      "image/png": {
       "height": 250,
       "width": 253
      }
     },
     "output_type": "display_data"
    }
   ],
   "source": [
    "plt.imshow(images[1].numpy().squeeze(), cmap='Greys_r')"
   ]
  },
  {
   "cell_type": "code",
   "execution_count": 7,
   "metadata": {},
   "outputs": [],
   "source": [
    "n_output=10\n",
    "#flattening the images to get the input tensor of 784\n",
    "n_input=images.view(images.shape[0],-1)\n",
    "n_hidden=512\n",
    "def activation(x):\n",
    "    return (1/(1+torch.exp(-x)))\n",
    "\n",
    "#two layers\n",
    "W1=torch.randn(784,n_hidden)\n",
    "W2=torch.randn(n_hidden,n_output)\n",
    "#biases\n",
    "B1=torch.randn((1,n_hidden))\n",
    "B2=torch.randn((1,n_output))\n",
    "\n",
    "h=activation(torch.matmul(n_input,W1)+B1)\n",
    "\n",
    "out =torch.matmul(h,W2)+B2\n"
   ]
  },
  {
   "cell_type": "code",
   "execution_count": 9,
   "metadata": {},
   "outputs": [
    {
     "data": {
      "text/plain": [
       "torch.Size([64, 784])"
      ]
     },
     "execution_count": 9,
     "metadata": {},
     "output_type": "execute_result"
    }
   ],
   "source": [
    "n_input.shape"
   ]
  },
  {
   "cell_type": "code",
   "execution_count": 7,
   "metadata": {},
   "outputs": [
    {
     "name": "stdout",
     "output_type": "stream",
     "text": [
      "tensor([[4.3945e-10, 1.1128e-12, 2.9283e-07, 5.3524e-14, 1.0000e+00, 1.7809e-29,\n",
      "         2.4365e-23, 4.0877e-14, 1.1260e-16, 1.2096e-12],\n",
      "        [2.8286e-03, 5.5886e-07, 6.1043e-03, 5.3997e-14, 1.1949e-04, 2.0793e-22,\n",
      "         7.5694e-10, 9.9093e-01, 1.2114e-13, 1.7386e-05],\n",
      "        [5.4388e-01, 2.1039e-04, 1.5460e-05, 1.4642e-09, 4.1350e-01, 1.3101e-21,\n",
      "         7.3581e-08, 2.4041e-03, 6.3228e-17, 3.9995e-02],\n",
      "        [7.5910e-02, 9.0721e-05, 1.0006e-08, 1.6649e-11, 9.2400e-01, 3.0615e-28,\n",
      "         1.3107e-15, 7.5035e-11, 4.7240e-15, 1.5727e-09],\n",
      "        [3.2703e-04, 1.6049e-06, 9.9960e-01, 1.5024e-13, 9.1705e-06, 1.0594e-24,\n",
      "         2.2102e-16, 3.5843e-05, 1.4418e-16, 2.3432e-05],\n",
      "        [3.0912e-06, 1.4699e-05, 1.3395e-01, 3.3452e-09, 8.6603e-01, 2.0926e-23,\n",
      "         6.4778e-13, 4.6269e-08, 6.5442e-15, 1.2886e-06],\n",
      "        [5.2214e-01, 1.0626e-06, 3.6613e-01, 2.2211e-09, 4.3529e-02, 5.1125e-21,\n",
      "         3.7576e-06, 7.2719e-07, 1.6767e-12, 6.8200e-02],\n",
      "        [1.0000e+00, 6.0594e-14, 2.5406e-09, 1.2455e-14, 2.6053e-06, 2.0952e-28,\n",
      "         1.5204e-15, 1.2415e-12, 4.8507e-16, 7.1426e-10],\n",
      "        [4.8969e-02, 5.9023e-08, 2.9537e-07, 1.2426e-11, 9.5103e-01, 3.2951e-23,\n",
      "         6.4647e-15, 2.1643e-08, 2.9079e-12, 4.2461e-09],\n",
      "        [8.8435e-04, 3.2205e-07, 4.4915e-06, 1.5201e-09, 1.4885e-01, 4.0799e-27,\n",
      "         1.1778e-12, 2.6365e-05, 2.9660e-17, 8.5023e-01],\n",
      "        [9.0316e-03, 1.4807e-11, 4.8915e-05, 3.4996e-11, 9.9092e-01, 7.1293e-28,\n",
      "         1.6858e-09, 1.3184e-17, 4.6498e-19, 2.2082e-07],\n",
      "        [9.9998e-01, 2.0209e-10, 2.6925e-08, 1.4157e-07, 1.7010e-05, 3.2435e-25,\n",
      "         1.0522e-07, 1.7498e-07, 1.5196e-09, 2.0991e-07],\n",
      "        [9.9999e-01, 3.2080e-08, 6.7278e-06, 2.5663e-08, 1.3984e-07, 1.1895e-25,\n",
      "         2.8396e-06, 5.3234e-10, 5.4481e-17, 6.9307e-11],\n",
      "        [4.3311e-01, 1.7216e-05, 3.6653e-03, 2.2029e-11, 5.6319e-01, 4.4029e-22,\n",
      "         9.3056e-14, 1.0139e-07, 1.6597e-12, 1.7315e-05],\n",
      "        [1.1093e-05, 4.6253e-08, 1.2345e-07, 2.4513e-15, 3.8687e-01, 1.2574e-27,\n",
      "         3.5855e-06, 6.1309e-01, 1.6884e-18, 3.3684e-05],\n",
      "        [9.9154e-01, 6.7457e-07, 4.8966e-05, 3.5913e-09, 2.4459e-03, 7.8729e-28,\n",
      "         1.8771e-14, 5.9637e-03, 1.9256e-13, 1.3081e-06],\n",
      "        [9.1132e-01, 8.9109e-04, 5.6700e-07, 7.5033e-07, 3.4191e-02, 2.3694e-26,\n",
      "         2.7696e-06, 5.2798e-02, 7.7692e-04, 1.8473e-05],\n",
      "        [9.8309e-01, 6.6250e-12, 9.5774e-12, 1.8208e-10, 5.5536e-07, 1.3965e-26,\n",
      "         3.2062e-11, 1.6911e-02, 7.4672e-17, 2.3626e-07],\n",
      "        [3.3486e-01, 1.5490e-07, 6.5878e-01, 7.9968e-05, 6.2206e-03, 1.3028e-20,\n",
      "         1.0171e-14, 6.2587e-05, 1.6621e-10, 4.3108e-09],\n",
      "        [4.0849e-01, 2.1487e-12, 3.1703e-04, 9.8542e-18, 5.9119e-01, 2.6197e-21,\n",
      "         1.3612e-12, 3.8500e-06, 1.4715e-06, 1.0096e-09],\n",
      "        [9.6803e-01, 9.4598e-11, 1.8913e-03, 2.8517e-08, 3.0076e-02, 1.7688e-30,\n",
      "         1.6485e-16, 2.1167e-14, 6.0375e-19, 1.9033e-13],\n",
      "        [9.9465e-01, 3.4548e-09, 5.5410e-09, 1.1066e-06, 5.3407e-03, 6.0637e-27,\n",
      "         2.4659e-06, 5.7864e-10, 2.4585e-15, 7.8458e-07],\n",
      "        [9.9980e-01, 3.4897e-09, 9.2932e-08, 2.9911e-14, 1.7180e-06, 1.0178e-27,\n",
      "         3.6333e-09, 1.3258e-10, 2.3114e-10, 1.9658e-04],\n",
      "        [9.9999e-01, 2.2377e-09, 1.3130e-13, 1.8127e-14, 7.3254e-06, 2.5053e-24,\n",
      "         6.4651e-11, 3.2247e-11, 6.2903e-14, 6.2265e-12],\n",
      "        [1.8521e-07, 4.9789e-09, 9.1567e-06, 1.6137e-04, 9.0968e-01, 1.9179e-21,\n",
      "         2.0416e-11, 9.0087e-02, 1.2431e-05, 5.0930e-05],\n",
      "        [1.0000e+00, 1.3907e-12, 2.8318e-07, 3.0943e-19, 1.5291e-07, 2.2808e-29,\n",
      "         3.4710e-12, 9.5163e-09, 2.8793e-22, 1.6283e-12],\n",
      "        [1.0000e+00, 3.5889e-12, 3.6968e-08, 2.2034e-08, 2.0026e-08, 1.0693e-26,\n",
      "         8.6677e-14, 4.0496e-08, 2.3624e-15, 9.0186e-10],\n",
      "        [2.6120e-07, 3.3548e-09, 3.0730e-05, 6.9890e-15, 9.9995e-01, 2.0443e-27,\n",
      "         7.2187e-14, 2.3728e-05, 1.3350e-20, 8.7579e-12],\n",
      "        [5.4212e-01, 5.1773e-08, 3.5115e-05, 1.5219e-04, 4.5769e-01, 1.4026e-26,\n",
      "         3.9330e-14, 1.5785e-06, 2.2579e-15, 4.2926e-08],\n",
      "        [1.0000e+00, 1.6992e-07, 1.6687e-09, 2.2961e-08, 8.0370e-07, 2.1301e-21,\n",
      "         2.6625e-14, 7.2820e-08, 1.8571e-11, 5.2061e-08],\n",
      "        [4.6170e-03, 2.9594e-01, 2.8322e-05, 3.5321e-08, 1.0580e-03, 2.4408e-20,\n",
      "         4.7171e-03, 6.9364e-01, 6.7407e-21, 3.9523e-13],\n",
      "        [6.2780e-01, 5.2512e-07, 4.0318e-06, 9.7434e-08, 3.7219e-01, 1.6393e-18,\n",
      "         4.5284e-08, 2.1927e-06, 8.7660e-18, 4.7698e-06],\n",
      "        [1.0000e+00, 3.0446e-11, 9.0198e-14, 4.8338e-11, 1.8803e-10, 2.0323e-33,\n",
      "         3.0208e-10, 4.3989e-13, 1.5542e-19, 5.1413e-10],\n",
      "        [9.9994e-01, 1.8264e-10, 2.2625e-06, 5.7967e-10, 3.6593e-05, 8.1353e-21,\n",
      "         1.8257e-11, 7.7034e-12, 1.2050e-18, 2.2598e-05],\n",
      "        [9.5426e-01, 9.3250e-11, 2.2965e-06, 8.1837e-09, 3.6793e-02, 2.0438e-17,\n",
      "         1.0405e-11, 8.9483e-03, 9.4460e-10, 2.6481e-09],\n",
      "        [4.3356e-01, 5.2690e-01, 1.0168e-02, 1.8766e-04, 1.5763e-02, 2.0253e-18,\n",
      "         3.7100e-11, 8.4864e-06, 3.7790e-12, 1.3405e-02],\n",
      "        [9.9998e-01, 5.4061e-16, 4.1823e-12, 5.1074e-13, 1.9950e-08, 1.1598e-24,\n",
      "         2.2271e-13, 1.5779e-18, 1.5781e-15, 2.4539e-05],\n",
      "        [1.0000e+00, 6.9843e-17, 6.4248e-18, 1.5794e-10, 7.1722e-07, 1.3760e-31,\n",
      "         1.0219e-10, 6.4127e-13, 1.6524e-27, 1.9710e-20],\n",
      "        [9.9662e-01, 1.2830e-05, 2.5424e-08, 8.3003e-15, 1.7763e-03, 6.5781e-27,\n",
      "         8.9754e-07, 7.8997e-12, 3.8466e-08, 1.5943e-03],\n",
      "        [1.0000e+00, 5.2223e-16, 7.7488e-14, 6.1379e-17, 2.5850e-06, 3.0513e-22,\n",
      "         1.5542e-13, 1.8320e-19, 5.5517e-18, 7.0102e-14],\n",
      "        [9.9994e-01, 3.3436e-11, 1.8819e-09, 5.7027e-05, 7.2522e-10, 1.1787e-26,\n",
      "         2.1122e-09, 8.6718e-09, 3.1852e-16, 9.3432e-12],\n",
      "        [6.4626e-01, 1.0949e-04, 1.4393e-06, 3.9461e-11, 3.5363e-01, 3.9211e-27,\n",
      "         1.2164e-16, 1.1476e-11, 8.2298e-13, 4.6038e-11],\n",
      "        [1.7033e-01, 4.1602e-05, 1.0537e-04, 7.0710e-10, 8.2948e-01, 7.7990e-25,\n",
      "         8.0322e-09, 4.9587e-05, 1.5508e-07, 5.7995e-08],\n",
      "        [1.0000e+00, 6.3011e-15, 6.3216e-19, 6.1578e-16, 1.5005e-09, 3.3827e-26,\n",
      "         3.1943e-16, 1.4039e-13, 2.7035e-19, 2.3033e-13],\n",
      "        [4.1574e-01, 1.9476e-08, 8.7636e-09, 1.9948e-04, 5.8406e-01, 1.2817e-23,\n",
      "         2.6790e-14, 1.1532e-06, 2.9338e-16, 1.5466e-06],\n",
      "        [1.1694e-01, 2.0624e-07, 1.4622e-03, 4.5556e-14, 8.8157e-01, 1.5840e-24,\n",
      "         2.6189e-14, 2.4099e-05, 1.3706e-16, 1.0829e-10],\n",
      "        [5.9684e-05, 5.6656e-12, 1.5512e-06, 4.1561e-08, 9.9994e-01, 2.3898e-23,\n",
      "         6.6692e-14, 8.4635e-07, 4.0569e-13, 2.9601e-13],\n",
      "        [9.9933e-01, 9.5122e-10, 2.1766e-10, 4.2225e-13, 6.5700e-04, 3.5418e-28,\n",
      "         2.7653e-14, 1.0322e-05, 3.5098e-16, 2.2285e-16],\n",
      "        [1.2240e-02, 8.3035e-07, 1.4548e-05, 6.1367e-14, 9.8769e-01, 9.9369e-27,\n",
      "         5.2034e-13, 4.9967e-05, 2.9989e-20, 9.5718e-08],\n",
      "        [9.4909e-01, 5.7168e-06, 2.2032e-06, 3.3364e-15, 5.0636e-02, 2.3776e-25,\n",
      "         8.0369e-10, 9.2915e-10, 1.5139e-15, 2.6435e-04],\n",
      "        [4.9257e-04, 1.0556e-07, 9.5588e-04, 7.6413e-01, 3.9481e-03, 1.9235e-21,\n",
      "         5.1816e-16, 2.3048e-01, 7.7124e-18, 3.4746e-07],\n",
      "        [3.3788e-05, 5.4433e-10, 1.1997e-08, 4.7564e-18, 9.9997e-01, 3.0040e-23,\n",
      "         1.3425e-12, 5.3913e-09, 7.2070e-13, 2.8924e-14],\n",
      "        [9.8580e-01, 2.0190e-13, 5.5801e-04, 2.4237e-09, 1.3618e-02, 7.4051e-26,\n",
      "         1.9415e-12, 1.6250e-05, 2.2272e-14, 4.5260e-06],\n",
      "        [9.9253e-01, 4.0157e-04, 3.3101e-06, 9.9026e-14, 7.0686e-03, 3.1270e-30,\n",
      "         5.0287e-10, 4.9492e-11, 1.7538e-16, 9.1982e-09],\n",
      "        [9.0832e-01, 1.9119e-11, 1.9556e-04, 3.5179e-09, 8.8329e-05, 9.8261e-23,\n",
      "         2.2612e-10, 9.2667e-08, 1.0404e-12, 9.1399e-02],\n",
      "        [9.5427e-04, 3.5968e-09, 4.3122e-08, 2.1853e-06, 9.6271e-01, 3.4147e-17,\n",
      "         1.9131e-14, 3.6293e-02, 1.1429e-11, 4.1667e-05],\n",
      "        [9.9976e-01, 1.0545e-09, 3.2615e-08, 8.3408e-12, 2.3848e-04, 1.5765e-26,\n",
      "         8.0116e-14, 1.6344e-06, 1.4591e-13, 2.3570e-09],\n",
      "        [9.9909e-01, 1.3395e-09, 8.6348e-13, 9.9895e-14, 6.5993e-05, 2.2870e-21,\n",
      "         1.6619e-11, 2.8041e-05, 1.6140e-20, 8.1252e-04],\n",
      "        [1.6615e-06, 4.6532e-04, 9.5635e-05, 9.0072e-01, 9.7922e-02, 1.2299e-29,\n",
      "         3.1515e-15, 7.9413e-04, 1.3208e-19, 2.9333e-13],\n",
      "        [7.8609e-01, 6.7371e-04, 2.0765e-07, 7.3521e-08, 2.1324e-01, 2.8286e-13,\n",
      "         9.8435e-14, 1.7987e-13, 5.5777e-08, 3.5552e-07],\n",
      "        [9.9820e-01, 3.5366e-06, 3.8021e-06, 1.3718e-06, 2.1283e-04, 1.0499e-21,\n",
      "         1.2306e-05, 1.5598e-03, 1.8927e-11, 3.3248e-06],\n",
      "        [5.3966e-05, 7.5190e-05, 2.8582e-07, 4.5797e-07, 9.9987e-01, 6.5130e-21,\n",
      "         7.9511e-10, 1.7811e-07, 4.1026e-09, 1.3721e-06],\n",
      "        [9.3702e-01, 1.6794e-07, 9.0726e-09, 9.3081e-08, 1.6269e-02, 2.1448e-21,\n",
      "         1.8305e-15, 4.6711e-02, 6.6745e-09, 7.4862e-15],\n",
      "        [9.9956e-01, 1.0944e-08, 1.0889e-07, 8.1218e-10, 4.2947e-04, 1.9266e-25,\n",
      "         3.5954e-13, 5.1195e-07, 5.2089e-14, 9.4012e-06]])\n",
      "torch.Size([64, 10])\n",
      "tensor([1.0000, 1.0000, 1.0000, 1.0000, 1.0000, 1.0000, 1.0000, 1.0000, 1.0000,\n",
      "        1.0000, 1.0000, 1.0000, 1.0000, 1.0000, 1.0000, 1.0000, 1.0000, 1.0000,\n",
      "        1.0000, 1.0000, 1.0000, 1.0000, 1.0000, 1.0000, 1.0000, 1.0000, 1.0000,\n",
      "        1.0000, 1.0000, 1.0000, 1.0000, 1.0000, 1.0000, 1.0000, 1.0000, 1.0000,\n",
      "        1.0000, 1.0000, 1.0000, 1.0000, 1.0000, 1.0000, 1.0000, 1.0000, 1.0000,\n",
      "        1.0000, 1.0000, 1.0000, 1.0000, 1.0000, 1.0000, 1.0000, 1.0000, 1.0000,\n",
      "        1.0000, 1.0000, 1.0000, 1.0000, 1.0000, 1.0000, 1.0000, 1.0000, 1.0000,\n",
      "        1.0000])\n"
     ]
    }
   ],
   "source": [
    "#To find out the probability between 0 & 1 and sum upto 1\n",
    "def softmax(x):\n",
    "    ## TODO: Implement the softmax function here\n",
    "    return torch.exp(x)/(torch.sum(torch.exp(x),dim=1)).view(-1,1)\n",
    "\n",
    "# Here, out should be the output of the network in the previous excercise with shape (64,10)\n",
    "probabilities = softmax(out)\n",
    "print(probabilities)\n",
    "# Does it have the right shape? Should be (64, 10)\n",
    "print(probabilities.shape)\n",
    "# Does it sum to 1?\n",
    "print(probabilities.sum(dim=1))\n"
   ]
  },
  {
   "cell_type": "markdown",
   "metadata": {},
   "source": [
    "## Building Networks with Pytorch using nn"
   ]
  },
  {
   "cell_type": "code",
   "execution_count": 8,
   "metadata": {
    "collapsed": true
   },
   "outputs": [],
   "source": [
    "from torch import nn\n",
    "class Network(nn.Module):\n",
    "    def __init__(self):\n",
    "        super().__init__()\n",
    "        \n",
    "        # Inputs to hidden layer linear transformation\n",
    "        self.hidden1 = nn.Linear(784, 256)\n",
    "        self.hidden2=nn.Linear(256,64)\n",
    "        # Output layer, 10 units - one for each digit\n",
    "        \n",
    "        self.output = nn.Linear(64, 10)\n",
    "        \n",
    "        # Define sigmoid activation and softmax output \n",
    "        self.sigmoid = nn.Sigmoid()\n",
    "        self.softmax = nn.Softmax(dim=1)\n",
    "        \n",
    "    def forward(self, x):\n",
    "        # Pass the input tensor through each of our operations\n",
    "        x = self.hidden(x)\n",
    "        x = self.sigmoid(x)\n",
    "        x = self.output(x)\n",
    "        x = self.softmax(x)\n",
    "        \n",
    "        return x"
   ]
  },
  {
   "cell_type": "code",
   "execution_count": 9,
   "metadata": {},
   "outputs": [
    {
     "data": {
      "text/plain": [
       "Network(\n",
       "  (hidden1): Linear(in_features=784, out_features=256, bias=True)\n",
       "  (hidden2): Linear(in_features=256, out_features=64, bias=True)\n",
       "  (output): Linear(in_features=64, out_features=10, bias=True)\n",
       "  (sigmoid): Sigmoid()\n",
       "  (softmax): Softmax()\n",
       ")"
      ]
     },
     "execution_count": 9,
     "metadata": {},
     "output_type": "execute_result"
    }
   ],
   "source": [
    "# Create the network and look at it's text representation\n",
    "model = Network()\n",
    "model"
   ]
  },
  {
   "cell_type": "markdown",
   "metadata": {},
   "source": [
    "## Or can be done using"
   ]
  },
  {
   "cell_type": "code",
   "execution_count": 10,
   "metadata": {},
   "outputs": [
    {
     "data": {
      "text/plain": [
       "Network(\n",
       "  (hidden1): Linear(in_features=784, out_features=128, bias=True)\n",
       "  (hidden2): Linear(in_features=128, out_features=64, bias=True)\n",
       "  (output): Linear(in_features=64, out_features=10, bias=True)\n",
       ")"
      ]
     },
     "execution_count": 10,
     "metadata": {},
     "output_type": "execute_result"
    }
   ],
   "source": [
    "## Your solution here\n",
    "from torch import nn\n",
    "import torch.nn.functional as F\n",
    "\n",
    "class Network(nn.Module):\n",
    "    def __init__(self):\n",
    "        super().__init__()\n",
    "        #self.input=nn.Linear(784,512)\n",
    "        self.hidden1=nn.Linear(784,128)\n",
    "        self.hidden2=nn.Linear(128,64)\n",
    "        self.output=nn.Linear(64,10)\n",
    "        #self.loss_layer=nn.CrossEntropyLoss()\n",
    "    def forward(self,x):\n",
    "        x=F.relu(self.hidden1(x))\n",
    "        x=F.relu(self.hidden2(x))\n",
    "        x=F.softmax(self.output(x))\n",
    "        #x=F.cross_entropy()\n",
    "        return x\n",
    "model=Network()\n",
    "model\n",
    "        "
   ]
  },
  {
   "cell_type": "markdown",
   "metadata": {
    "collapsed": true
   },
   "source": [
    "## Training Our MNIST DATASET"
   ]
  },
  {
   "cell_type": "code",
   "execution_count": 11,
   "metadata": {
    "collapsed": true
   },
   "outputs": [],
   "source": [
    "import torch\n",
    "from torch import optim\n",
    "from torchvision import datasets, transforms\n",
    "from torch import nn\n",
    "\n",
    "# Define a transform to normalize the data\n",
    "transform = transforms.Compose([transforms.ToTensor(),\n",
    "                              transforms.Normalize((0.5,), (0.5,)),\n",
    "                              ])\n",
    "\n",
    "# Download and load the training data\n",
    "trainset = datasets.MNIST('~/.pytorch/MNIST_data1/', download=True, train=True, transform=transform)\n",
    "trainloader = torch.utils.data.DataLoader(trainset, batch_size=64, shuffle=True)"
   ]
  },
  {
   "cell_type": "code",
   "execution_count": 12,
   "metadata": {},
   "outputs": [
    {
     "name": "stdout",
     "output_type": "stream",
     "text": [
      "Training loss: 1.8779554844919297\n",
      "Training loss: 0.7971390607451071\n",
      "Training loss: 0.5004121475636578\n",
      "Training loss: 0.4183688098306595\n",
      "Training loss: 0.3802822486265128\n"
     ]
    }
   ],
   "source": [
    "#Training\n",
    "model = nn.Sequential(nn.Linear(784, 128),\n",
    "                      nn.ReLU(),\n",
    "                      nn.Linear(128, 64),\n",
    "                      nn.ReLU(),\n",
    "                      nn.Linear(64, 10),\n",
    "                      nn.LogSoftmax(dim=1))\n",
    "\n",
    "criterion = nn.NLLLoss()\n",
    "optimizer = optim.SGD(model.parameters(), lr=0.003)\n",
    "\n",
    "epochs = 5\n",
    "for e in range(epochs):\n",
    "    running_loss = 0\n",
    "    for images, labels in trainloader:\n",
    "        # Flatten MNIST images into a 784 long vector\n",
    "        images = images.view(images.shape[0], -1)\n",
    "    \n",
    "        # TODO: Training pass\n",
    "        optimizer.zero_grad()\n",
    "        output=model.forward(images)\n",
    "        loss =criterion(output,labels) \n",
    "        loss.backward()\n",
    "        optimizer.step()\n",
    "        running_loss += loss.item()\n",
    "    else:\n",
    "        print(f\"Training loss: {running_loss/len(trainloader)}\")"
   ]
  },
  {
   "cell_type": "code",
   "execution_count": 13,
   "metadata": {},
   "outputs": [
    {
     "data": {
      "image/png": "[encoded data removed]",
      "text/plain": [
       "<Figure size 432x648 with 2 Axes>"
      ]
     },
     "metadata": {
      "image/png": {
       "height": 197,
       "width": 370
      }
     },
     "output_type": "display_data"
    }
   ],
   "source": [
    "import torch.nn.functional as F\n",
    "#Testing the model\n",
    "%matplotlib inline\n",
    "import helper\n",
    "\n",
    "images, labels = next(iter(trainloader))\n",
    "\n",
    "img = images[0].view(1, 784)\n",
    "# Turn off gradients to speed up this part\n",
    "with torch.no_grad():\n",
    "    logits = model.forward(img)\n",
    "\n",
    "# Output of the network are logits, need to take softmax for probabilities\n",
    "ps = F.softmax(logits, dim=1)\n",
    "view_classify(img.view(1, 28, 28), ps)"
   ]
  },
  {
   "cell_type": "code",
   "execution_count": null,
   "metadata": {
    "collapsed": true
   },
   "outputs": [],
   "source": []
  },
  {
   "cell_type": "code",
   "execution_count": null,
   "metadata": {
    "collapsed": true
   },
   "outputs": [],
   "source": []
  },
  {
   "cell_type": "code",
   "execution_count": null,
   "metadata": {
    "collapsed": true
   },
   "outputs": [],
   "source": []
  }
 ],
 "metadata": {
  "kernelspec": {
   "display_name": "Python 3",
   "language": "python",
   "name": "python3"
  },
  "language_info": {
   "codemirror_mode": {
    "name": "ipython",
    "version": 3
   },
   "file_extension": ".py",
   "mimetype": "text/x-python",
   "name": "python",
   "nbconvert_exporter": "python",
   "pygments_lexer": "ipython3",
   "version": "3.6.8"
  }
 },
 "nbformat": 4,
 "nbformat_minor": 2
}
